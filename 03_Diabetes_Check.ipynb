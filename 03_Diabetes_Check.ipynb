{
 "cells": [
  {
   "cell_type": "markdown",
   "id": "5d17ee5b-797f-4fde-ac5b-7cfa5023951b",
   "metadata": {},
   "source": [
    "# Class importance using Fuzzy Cognitive Maps\n",
    "\n",
    "Fuzzy Cognitive maps can be used for classification tasks. One of the big benefits of them is, that they can be explained more easily than neural networks for example.\n",
    "Based on the python package `fmcpy` and their example presented in their [paper](https://arxiv.org/pdf/2111.12749) we will go through one case, to get a better idea of how it works. We will take a look at the class importance."
   ]
  },
  {
   "cell_type": "markdown",
   "id": "7dcfb1c7-2c0b-4a59-9a6d-9b2b83213a47",
   "metadata": {},
   "source": [
    "### Long-Term Cognitive Networks (LTCN-MP)\n",
    "\n",
    "In the image below there is a visualization from the above mentioned paper. The graph consists of:\n",
    "* input signal: x1, x2, x3\n",
    "* inner layer: c1, c2, c3\n",
    "* outer layer: c4, c5, c6\n",
    "* output layer: y1, y2, y3\n",
    "\n",
    "The weights between the nodes of the inner layer are computet with the least square problem (unsupervised) and the weights between the inner and outer layer with the Moore-Penrose-Inverse.\n",
    "\n",
    "![LTCN_MP Visualization](image/LTCN_MP_Paper.png)\n",
    "\n",
    "Here we load the necessary packages and functions."
   ]
  },
  {
   "cell_type": "code",
   "execution_count": 11,
   "id": "767390e8-df9b-4c97-b678-ed57165ad4a2",
   "metadata": {
    "ExecuteTime": {
     "end_time": "2025-02-10T19:31:40.738759Z",
     "start_time": "2025-02-10T19:31:40.268645Z"
    }
   },
   "outputs": [],
   "source": [
    "import fcmpy.ml.classification.FCM_MP as mp\n",
    "import matplotlib.pylab as plt"
   ]
  },
  {
   "cell_type": "markdown",
   "id": "72005dfc-1dfc-41d0-bd47-87f2a1d9c3bb",
   "metadata": {},
   "source": [
    "## Input format\n",
    "\n",
    "When working with the `fcmpy` package, it is necessary to use the **.arff** format and that the values are normalized."
   ]
  },
  {
   "cell_type": "code",
   "execution_count": 51,
   "id": "b7491943-3d59-4a52-baa6-f0d1da5c5d57",
   "metadata": {
    "ExecuteTime": {
     "end_time": "2025-02-10T19:32:54.674831Z",
     "start_time": "2025-02-10T19:32:54.670711Z"
    }
   },
   "outputs": [],
   "source": [
    "sources = [\"data/diabetes_normalized.arff\"]"
   ]
  },
  {
   "cell_type": "code",
   "execution_count": 52,
   "id": "14f598936d31c5e3",
   "metadata": {
    "ExecuteTime": {
     "end_time": "2025-02-10T19:32:55.496732Z",
     "start_time": "2025-02-10T19:32:55.491364Z"
    }
   },
   "outputs": [],
   "source": [
    "params = {\"sources\":sources}"
   ]
  },
  {
   "cell_type": "markdown",
   "id": "0675abe7-1358-4d81-b05f-4cf523c82bc7",
   "metadata": {},
   "source": [
    "## Pima Indians Diabetes Dataset\n",
    "\n",
    "This dataset originates from the National Institute of Diabetes and Digestive and Kidney Diseases. It contains medical diagnostic information for female patients of Pima Indian heritage, aged 21 or older, and is commonly used for binary classification tasks to predict the onset of diabetes.\n",
    "\n",
    "### Features:\n",
    "\n",
    "* **Number of times pregnant**  \n",
    "  Number of times the patient has been pregnant. Indicates general health and hormonal factors that could correlate with diabetes risk.\n",
    "\n",
    "* **Plasma glucose concentration (2 hours in an oral glucose tolerance test)**  \n",
    "  The glucose concentration in the blood two hours after a glucose intake. A key indicator of how the body processes sugar and a primary diagnostic factor for diabetes.\n",
    "\n",
    "* **Diastolic blood pressure (mm Hg)**  \n",
    "  Measures the pressure in the arteries when the heart rests between beats. High blood pressure is a risk factor for diabetes complications.\n",
    "\n",
    "* **Triceps skin fold thickness (mm)**  \n",
    "  A measure of body fat using skinfold thickness. Often used to estimate overall body fat percentage.\n",
    "\n",
    "* **2-Hour serum insulin (mu U/ml)**  \n",
    "  The insulin level in the blood two hours after a glucose load. Provides insight into how the body manages insulin, which is vital for diabetes diagnosis.\n",
    "\n",
    "* **Body mass index (BMI)**  \n",
    "  Calculated as weight in kilograms divided by height in meters squared. Indicates body fat level and obesity, which are significant risk factors for diabetes.\n",
    "\n",
    "* **Diabetes pedigree function**  \n",
    "  A function that scores the likelihood of diabetes based on family history. Higher values indicate a stronger genetic predisposition.\n",
    "\n",
    "* **Age (years)**  \n",
    "  The age of the patient. Risk of diabetes typically increases with age.\n",
    "\n",
    "### Target Class:\n",
    "\n",
    "* **Class:**  \n",
    "  Indicates whether or not the patient shows signs of diabetes, according to diagnostic criteria.\n",
    "\n",
    "  * `tested_negative` – The patient does not have diabetes.\n",
    "  * `tested_positive` – The patient has diabetes.\n",
    "\n",
    "---\n",
    "\n",
    "This dataset is often used for binary classification using algorithms such as logistic regression, decision trees, support vector machines, and neural networks. It is especially useful for learning medical data preprocessing, handling missing values, and evaluating classification metrics such as accuracy, sensitivity, and specificity.\n"
   ]
  },
  {
   "cell_type": "markdown",
   "id": "b3b59a65-dd55-40bf-a82d-01ce84a6a78a",
   "metadata": {},
   "source": [
    "The packages allows us to change different parameter setting, which will effect the performance of the model.\n",
    "\n",
    "- **L (int, default=0)**: Used in reasoning rule 3 to determine temporal dependencies.\n",
    "- **M (int, default=1)**: Number of output variables in the dataset.\n",
    "- **T (int, default=None)**: Number of iterations in the FCM model; if not set, defaults to `features - output variables`.\n",
    "- **b1 (float, default=1.0)**: Weighting parameter used in reasoning rules to control activation function blending.\n",
    "- **folds (int, default=10)**: Number of folds used in Stratified K-Fold cross-validation.\n",
    "- **output (str, default='./output.csv')**: File path for saving results in CSV format.\n",
    "- **rule (int, choices=[0, 1, 2], default=0)**: Selection of reasoning rule:\n",
    "  - `0`: Standard logit function.\n",
    "  - `1`: Weighted combination of logit and previous output.\n",
    "  - `2`: Weighted combination including self-feedback.\n",
    "- **verbose (bool, default=False)**: If `True`, enables detailed output logging during training.\n",
    "\n",
    "**Activation Function Parameters** (`p` List)\n",
    "\n",
    "- **p[0] (float, default=1.0)**: Slope parameter for the activation function.\n",
    "- **p[1] (float, default=1.0)**: Offset (`h`) used for activation scaling.\n",
    "- **p[2] (float, default=1.0)**: `q` parameter, controlling curve steepness.\n",
    "- **p[3] (float, default=1.0)**: `v` parameter, adjusting function shape."
   ]
  },
  {
   "cell_type": "markdown",
   "id": "fadebacc-db80-450f-941f-b33032dcaa27",
   "metadata": {},
   "source": [
    "\n",
    "\n",
    "The output of the LTCN-MP is numeric and the implementation uses the Mean Squared Error (MSE) to update the weights."
   ]
  },
  {
   "cell_type": "code",
   "execution_count": 53,
   "id": "408a74f6-7bd4-49bf-aaaf-ae12ff123516",
   "metadata": {
    "ExecuteTime": {
     "end_time": "2025-02-10T19:32:57.914538Z",
     "start_time": "2025-02-10T19:32:57.859835Z"
    }
   },
   "outputs": [
    {
     "name": "stdout",
     "output_type": "stream",
     "text": [
      "Processing data/diabetes_normalized.arff\n",
      "{'b1': '1.00', 'L': 0, 'slope': '1.00', 'h': '1.00', 'train_error': 0.03841837307179344, 'test_error': 0.038403366371031415, 'training_time': 0.0032445, 'weights': array([[ 1.        ,  0.11128312,  0.10253711, -0.05140158, -0.04886039,\n",
      "         0.00557817, -0.02558134],\n",
      "       [ 0.16587783,  1.        ,  0.15956677,  0.06723121,  0.28375611,\n",
      "         0.1569192 ,  0.12974607],\n",
      "       [ 0.16323718,  0.17042034,  1.        ,  0.22419937,  0.08234766,\n",
      "         0.22832296,  0.02635283],\n",
      "       [-0.07759638,  0.06808899,  0.21259908,  1.        ,  0.3705589 ,\n",
      "         0.2993073 ,  0.17122723],\n",
      "       [-0.10163266,  0.39597022,  0.10759439,  0.51058565,  1.        ,\n",
      "         0.18022342,  0.19636169],\n",
      "       [ 0.01555394,  0.29353902,  0.39990828,  0.55284212,  0.24159264,\n",
      "         1.        ,  0.18691411],\n",
      "       [-0.04885589,  0.16623741,  0.03161425,  0.21662145,  0.18029099,\n",
      "         0.12802268,  1.        ]]), 'importance': array([[-0.02136062],\n",
      "       [ 0.45757891],\n",
      "       [ 0.31150838],\n",
      "       [ 0.59619077],\n",
      "       [-0.65955128],\n",
      "       [-1.        ],\n",
      "       [ 0.24915208]])}\n",
      "MSE Average of the model across the 1 datasets: 0.0384\n"
     ]
    }
   ],
   "source": [
    "out = mp.run(**params)"
   ]
  },
  {
   "cell_type": "code",
   "execution_count": 54,
   "id": "9b740b8a-8aa6-4266-8886-33fd0b4bfefb",
   "metadata": {
    "ExecuteTime": {
     "end_time": "2025-02-10T19:33:00.855677Z",
     "start_time": "2025-02-10T19:33:00.847969Z"
    }
   },
   "outputs": [
    {
     "data": {
      "text/plain": [
       "array([[ 1.        ,  0.11128312,  0.10253711, -0.05140158, -0.04886039,\n",
       "         0.00557817, -0.02558134],\n",
       "       [ 0.16587783,  1.        ,  0.15956677,  0.06723121,  0.28375611,\n",
       "         0.1569192 ,  0.12974607],\n",
       "       [ 0.16323718,  0.17042034,  1.        ,  0.22419937,  0.08234766,\n",
       "         0.22832296,  0.02635283],\n",
       "       [-0.07759638,  0.06808899,  0.21259908,  1.        ,  0.3705589 ,\n",
       "         0.2993073 ,  0.17122723],\n",
       "       [-0.10163266,  0.39597022,  0.10759439,  0.51058565,  1.        ,\n",
       "         0.18022342,  0.19636169],\n",
       "       [ 0.01555394,  0.29353902,  0.39990828,  0.55284212,  0.24159264,\n",
       "         1.        ,  0.18691411],\n",
       "       [-0.04885589,  0.16623741,  0.03161425,  0.21662145,  0.18029099,\n",
       "         0.12802268,  1.        ]])"
      ]
     },
     "execution_count": 54,
     "metadata": {},
     "output_type": "execute_result"
    }
   ],
   "source": [
    "out[0][\"weights\"]"
   ]
  },
  {
   "cell_type": "markdown",
   "id": "c86f6802-1004-4fee-9d76-d1c6fb401e5b",
   "metadata": {},
   "source": [
    "The weight matrix (W) represents the relationships (causal influence) between concepts in the Fuzzy Cognitive Map (FCM)."
   ]
  },
  {
   "cell_type": "code",
   "execution_count": 57,
   "id": "43b1c251-6fca-4050-8b18-72eeaa1bb3d9",
   "metadata": {
    "ExecuteTime": {
     "end_time": "2025-02-10T19:33:02.470648Z",
     "start_time": "2025-02-10T19:33:02.389460Z"
    }
   },
   "outputs": [
    {
     "data": {
      "text/plain": [
       "<BarContainer object of 7 artists>"
      ]
     },
     "execution_count": 57,
     "metadata": {},
     "output_type": "execute_result"
    },
    {
     "data": {
      "image/png": "[encoded data removed]",
      "text/plain": [
       "<Figure size 640x480 with 1 Axes>"
      ]
     },
     "metadata": {},
     "output_type": "display_data"
    }
   ],
   "source": [
    "# feature importance for classification purposes\n",
    "fig, ax = plt.subplots()\n",
    "ax.bar(range(len(out[0][\"importance\"].flatten())),\n",
    "height=out[0][\"importance\"].flatten())"
   ]
  },
  {
   "cell_type": "code",
   "execution_count": 58,
   "id": "d11c1519-c499-46da-ba32-f4cf591661d8",
   "metadata": {},
   "outputs": [
    {
     "data": {
      "text/plain": [
       "array([[-0.02136062],\n",
       "       [ 0.45757891],\n",
       "       [ 0.31150838],\n",
       "       [ 0.59619077],\n",
       "       [-0.65955128],\n",
       "       [-1.        ],\n",
       "       [ 0.24915208]])"
      ]
     },
     "execution_count": 58,
     "metadata": {},
     "output_type": "execute_result"
    }
   ],
   "source": [
    "out[0][\"importance\"]"
   ]
  },
  {
   "cell_type": "markdown",
   "id": "062a2d51-719e-4cdb-9c77-31b19961db74",
   "metadata": {},
   "source": [
    "## Feature Importance in Predicting Diabetes (Medically Corrected)\n",
    "\n",
    "These weights represent the influence of each normalized feature on the model’s prediction. Positive values **increase the chance of diabetes**, while negative values **decrease it**.\n",
    "\n",
    "| Feature                    | Weight    | Model's Influence       | Medical Correlation             | Notes                                       |\n",
    "|----------------------------|-----------|--------------------------|----------------------------------|---------------------------------------------|\n",
    "| **Pregnancies**            | -0.021    | Weak negative            | Usually positive                 | Minimal effect in model. Could be due to data scale or feature interactions. |\n",
    "| **Glucose**                | +0.458    | Strong positive          | Strong positive                  | Correct — high glucose is a primary indicator of diabetes. |\n",
    "| **Blood Pressure**         | +0.312    | Moderate positive        | Mild positive                    | Reasonable — high BP can relate to insulin resistance. |\n",
    "| **Skin Thickness**         | +0.596    | Strong positive          | Positive                         | Skinfold thickness correlates with body fat, a valid risk factor. |\n",
    "| **Insulin**                | -0.660    | Strong negative          | Should be positive or non-linear | Model might misinterpret missing values (often 0s). |\n",
    "| **BMI**                    | -1.000    | Strongest negative       | Strong positive                  | Incorrect — high BMI is a major risk factor. May indicate model issues or feature collinearity. |\n",
    "| **Diabetes Pedigree Func.**| +0.249    | Mild positive            | Positive                         | Reasonable — family history affects diabetes risk. |\n",
    "\n",
    "---\n",
    "\n",
    "### Observations:\n",
    "- **Glucose** and **Skin Thickness** are strong indicators, aligning with medical expectations.\n",
    "- **BMI** has a highly negative weight, which **contradicts medical understanding** — this likely suggests:\n",
    "  - Misinterpretation by the model\n",
    "  - Issues with normalization or missing data handling\n",
    "  - Multicollinearity with other features\n",
    "- The **Insulin** feature is also negatively weighted, which could indicate problems with zero/imputed values or model bias.\n",
    "\n"
   ]
  }
 ],
 "metadata": {
  "kernelspec": {
   "display_name": "Python 3 (ipykernel)",
   "language": "python",
   "name": "python3"
  },
  "language_info": {
   "codemirror_mode": {
    "name": "ipython",
    "version": 3
   },
   "file_extension": ".py",
   "mimetype": "text/x-python",
   "name": "python",
   "nbconvert_exporter": "python",
   "pygments_lexer": "ipython3",
   "version": "3.8.20"
  }
 },
 "nbformat": 4,
 "nbformat_minor": 9
}
